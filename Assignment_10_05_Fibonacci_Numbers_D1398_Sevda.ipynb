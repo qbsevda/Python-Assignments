{
  "nbformat": 4,
  "nbformat_minor": 0,
  "metadata": {
    "colab": {
      "name": "Assignment - 10.05 -Fibonacci Numbers-D1398 Sevda.ipynb",
      "provenance": [],
      "authorship_tag": "ABX9TyNdNesi1JD2eCOMTqMnzvHB",
      "include_colab_link": true
    },
    "kernelspec": {
      "name": "python3",
      "display_name": "Python 3"
    },
    "language_info": {
      "name": "python"
    }
  },
  "cells": [
    {
      "cell_type": "markdown",
      "metadata": {
        "id": "view-in-github",
        "colab_type": "text"
      },
      "source": [
        "<a href=\"https://colab.research.google.com/github/qbsevda/Python-Assignments/blob/main/Assignment_10_05_Fibonacci_Numbers_D1398_Sevda.ipynb\" target=\"_parent\"><img src=\"https://colab.research.google.com/assets/colab-badge.svg\" alt=\"Open In Colab\"/></a>"
      ]
    },
    {
      "cell_type": "code",
      "metadata": {
        "id": "nLxJnMQnRiXr"
      },
      "source": [
        "x = int(input(\"\"\"Please enter a number to find Fibonacci Numbers of the given range : \"\"\"))\n",
        "if x >= 2:\n",
        "  lst_1 = list(range(x))\n",
        "  for i in lst_1:\n",
        "    if i < 2:\n",
        "      n_1 = [0,1]\n",
        "    elif i >= 2:\n",
        "      print(n_1[i-2], end=' + ')\n",
        "      print(n_1[i-1]) \n",
        "      print(n_1[i-2] + n_1[i-1])\n",
        "      n_1.append(n_1[i-1] + n_1[i-2])\n",
        "\n",
        "elif x >= 0 and x < 2:\n",
        "  n_1 = [0, 1]\n",
        "\n",
        "else:\n",
        "  x = int(input(\"\"\"Negative number is not valid! Please enter a positive number : \"\"\"))\n",
        "print(f\"Fibonacci Numbers of the given range of '{x}' if :\", n_1)"
      ],
      "execution_count": null,
      "outputs": []
    }
  ]
}