{
  "nbformat": 4,
  "nbformat_minor": 0,
  "metadata": {
    "colab": {
      "name": "Assignment - 10/07 (Fizz - Buzz Numbers) D-1398 Sevda.ipynb",
      "provenance": [],
      "authorship_tag": "ABX9TyPKR41yJZSgpCfI4qFn/EV8",
      "include_colab_link": true
    },
    "kernelspec": {
      "name": "python3",
      "display_name": "Python 3"
    },
    "language_info": {
      "name": "python"
    }
  },
  "cells": [
    {
      "cell_type": "markdown",
      "metadata": {
        "id": "view-in-github",
        "colab_type": "text"
      },
      "source": [
        "<a href=\"https://colab.research.google.com/github/qbsevda/Python-Assignments/blob/main/Assignment_10_07_(Fizz_Buzz_Numbers)_D_1398_Sevda.ipynb\" target=\"_parent\"><img src=\"https://colab.research.google.com/assets/colab-badge.svg\" alt=\"Open In Colab\"/></a>"
      ]
    },
    {
      "cell_type": "code",
      "execution_count": 1,
      "metadata": {
        "colab": {
          "base_uri": "https://localhost:8080/"
        },
        "id": "bE3KjiYyHRbO",
        "outputId": "50615147-0fdc-4e4f-bbaf-b854aa4d27d2"
      },
      "outputs": [
        {
          "output_type": "stream",
          "name": "stdout",
          "text": [
            "Please input a number : 100\n",
            "3 is a Fizz number\n",
            "5 is a Buzz number\n",
            "6 is a Fizz number\n",
            "9 is a Fizz number\n",
            "10 is a Buzz number\n",
            "12 is a Fizz number\n",
            "15 is a FizzBuzz number\n",
            "18 is a Fizz number\n",
            "20 is a Buzz number\n",
            "21 is a Fizz number\n",
            "24 is a Fizz number\n",
            "25 is a Buzz number\n",
            "27 is a Fizz number\n",
            "30 is a FizzBuzz number\n",
            "33 is a Fizz number\n",
            "35 is a Buzz number\n",
            "36 is a Fizz number\n",
            "39 is a Fizz number\n",
            "40 is a Buzz number\n",
            "42 is a Fizz number\n",
            "45 is a FizzBuzz number\n",
            "48 is a Fizz number\n",
            "50 is a Buzz number\n",
            "51 is a Fizz number\n",
            "54 is a Fizz number\n",
            "55 is a Buzz number\n",
            "57 is a Fizz number\n",
            "60 is a FizzBuzz number\n",
            "63 is a Fizz number\n",
            "65 is a Buzz number\n",
            "66 is a Fizz number\n",
            "69 is a Fizz number\n",
            "70 is a Buzz number\n",
            "72 is a Fizz number\n",
            "75 is a FizzBuzz number\n",
            "78 is a Fizz number\n",
            "80 is a Buzz number\n",
            "81 is a Fizz number\n",
            "84 is a Fizz number\n",
            "85 is a Buzz number\n",
            "87 is a Fizz number\n",
            "90 is a FizzBuzz number\n",
            "93 is a Fizz number\n",
            "95 is a Buzz number\n",
            "96 is a Fizz number\n",
            "99 is a Fizz number\n"
          ]
        }
      ],
      "source": [
        "num1 = int(input(\"Please input a number : \"))\n",
        "for i in range(1, num1):\n",
        "  if i % 3 == 0 and i % 5 == 0:\n",
        "    print(i, \"is a FizzBuzz number\")\n",
        "  elif i % 3 == 0:\n",
        "    print(i, \"is a Fizz number\")\n",
        "  elif i % 5 == 0:\n",
        "    print(i, \"is a Buzz number\")"
      ]
    }
  ]
}