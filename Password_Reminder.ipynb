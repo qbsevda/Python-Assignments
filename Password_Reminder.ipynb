{
  "nbformat": 4,
  "nbformat_minor": 0,
  "metadata": {
    "colab": {
      "name": "Password Reminder.ipynb",
      "provenance": [],
      "collapsed_sections": [],
      "authorship_tag": "ABX9TyNPFY/IezB4gszxUsEnHc+h"
    },
    "kernelspec": {
      "name": "python3",
      "display_name": "Python 3"
    },
    "language_info": {
      "name": "python"
    }
  },
  "cells": [
    {
      "cell_type": "markdown",
      "metadata": {
        "id": "gpQnPscyXqLz"
      },
      "source": [
        "Task : Let's say; you left a message in the past that prints a password you need. To see the password you wrote, you need to enter your name and the program should recognize you.\n",
        "Write a program that \n",
        "\n",
        "Takes the first name from the user and compares it to yours,\n",
        "Then if the name the user entered is the same as yours, print out such as : \"Hello, Joseph! The password is : W@12\",\n",
        "If the name the user entered is not the same as yours, print out such as : \"Hello, Amina! See you later.\""
      ]
    },
    {
      "cell_type": "code",
      "metadata": {
        "id": "Cb9ZLaaxXdsB"
      },
      "source": [
        "password = {'sevda': 'wqklj60',\n",
        "            'fatih': '977h6yd!@',\n",
        "            'yavuz': 'S34fda@',\n",
        "            'joseph': '890!.Colarado' \n",
        "          }\n",
        "\n",
        "name = input(\"Please enter your name :\").lower()\n",
        "\n",
        "if name in password:\n",
        "  print(f\"Hello, {name}! The Password is :\", password[name])\n",
        "else:\n",
        "  print(f\"Hello, {name}! See you later.\")"
      ],
      "execution_count": null,
      "outputs": []
    },
    {
      "cell_type": "code",
      "metadata": {
        "id": "uZQx4h-xXb07"
      },
      "source": [
        ""
      ],
      "execution_count": null,
      "outputs": []
    },
    {
      "cell_type": "code",
      "metadata": {
        "id": "8zzXeUB1XRsQ"
      },
      "source": [
        ""
      ],
      "execution_count": null,
      "outputs": []
    }
  ]
}