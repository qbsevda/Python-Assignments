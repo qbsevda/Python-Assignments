{
  "nbformat": 4,
  "nbformat_minor": 0,
  "metadata": {
    "colab": {
      "name": "Covid-19 Risk with If Statements.ipynb",
      "provenance": [],
      "collapsed_sections": [],
      "authorship_tag": "ABX9TyNOcVWfIP9NM51cDPLHjZ6G"
    },
    "kernelspec": {
      "name": "python3",
      "display_name": "Python 3"
    },
    "language_info": {
      "name": "python"
    }
  },
  "cells": [
    {
      "cell_type": "markdown",
      "metadata": {
        "id": "y4wOGJVKY8W0"
      },
      "source": [
        "Problem :\n",
        "\n",
        "Task : Estimating the risk of death from coronavirus. Write a program that;\n",
        "\n",
        "Takes \"Yes\" or \"No\" from the user as an answer to the following questions :\n",
        "\n",
        "Are you a cigarette addict older than 75 years old? Variable → age\n",
        "\n",
        "Do you have a severe chronic disease? Variable → chronic\n",
        "\n",
        "Is your immune system too weak? Variable → immune\n",
        "\n",
        "Set a logical algorithm using boolean logic operators (and/or) and use if-statements with the given variables in order to print out us a message : \"You are in risky group\"(if True ) or \"You are not in risky group\" (if False).\n",
        "age =  # can be assigned only True/False\n",
        "chronic =  # can be assigned only True/False\n",
        "immune =  # can be assigned only True/False\n",
        "risk = ?"
      ]
    },
    {
      "cell_type": "code",
      "metadata": {
        "id": "uTYHv8HJZWBM"
      },
      "source": [
        "age = int(input (\"What is your age? \"))\n",
        "addict = input (\"Are you a cigarette addict? \")\n",
        "chronic = input (\"Do you have a severe chronic disease? \")\n",
        "immune = input (\"Is your immune system too weak? \")\n",
        "\n",
        "if age > 75 :\n",
        "  age = True\n",
        "else:\n",
        "  age = False\n",
        "\n",
        "if addict == 'yes' :\n",
        "  addict = True\n",
        "else:\n",
        "  addict = False\n",
        "\n",
        "if chronic == 'yes' :\n",
        "  chronic = True\n",
        "else:\n",
        "  chronic = False\n",
        "\n",
        "if immune == 'yes' :\n",
        "  immune = True\n",
        "else:\n",
        "  immune = False\n",
        "\n",
        "result = bool (age and addict and chronic and immune)n\n",
        "\n",
        "if result == True :\n",
        "  print(\"You are at risk of death!\")\n",
        "else:\n",
        "  print(\"There is not a risk of death\")\n",
        "\n"
      ],
      "execution_count": null,
      "outputs": []
    }
  ]
}