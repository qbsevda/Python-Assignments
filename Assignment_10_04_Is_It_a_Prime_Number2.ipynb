{
  "nbformat": 4,
  "nbformat_minor": 0,
  "metadata": {
    "colab": {
      "name": "Assignment - 10/04 -Is It a Prime Number2.ipynb",
      "provenance": [],
      "collapsed_sections": [],
      "authorship_tag": "ABX9TyO+kz9S1G51vYCTmIkdXTHH",
      "include_colab_link": true
    },
    "kernelspec": {
      "name": "python3",
      "display_name": "Python 3"
    },
    "language_info": {
      "name": "python"
    }
  },
  "cells": [
    {
      "cell_type": "markdown",
      "metadata": {
        "id": "view-in-github",
        "colab_type": "text"
      },
      "source": [
        "<a href=\"https://colab.research.google.com/github/qbsevda/Python-Assignments/blob/main/Assignment_10_04_Is_It_a_Prime_Number2.ipynb\" target=\"_parent\"><img src=\"https://colab.research.google.com/assets/colab-badge.svg\" alt=\"Open In Colab\"/></a>"
      ]
    },
    {
      "cell_type": "code",
      "metadata": {
        "colab": {
          "base_uri": "https://localhost:8080/"
        },
        "id": "Ef68dPUVuHkq",
        "outputId": "49f042a1-eb00-4fa7-92d0-d6c37ad442d9"
      },
      "source": [
        "num = input('Please enter a number : ')\n",
        "if not num.isnumeric():\n",
        "  print(\"It is an invalid entry. Don't use non-numeric, float, or negative values!\")\n",
        "else: \n",
        "  num = int(num)\n",
        "if num ==5 or num == 3 or num == 2:\n",
        "  print(f'{num} is a prime number')\n",
        "else:\n",
        "  if ((num % 6) == 1) or ((num % 6) == -1):\n",
        "    print(f'{num} is a prime number')\n",
        "  else:\n",
        "    print(f'{num} is not a prime number')"
      ],
      "execution_count": 9,
      "outputs": [
        {
          "output_type": "stream",
          "name": "stdout",
          "text": [
            "Please enter a number : 7\n",
            "7 is a prime number\n"
          ]
        }
      ]
    }
  ]
}