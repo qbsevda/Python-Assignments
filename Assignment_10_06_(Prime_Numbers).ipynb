{
  "nbformat": 4,
  "nbformat_minor": 0,
  "metadata": {
    "colab": {
      "name": "Assignment - 10/06 (Prime Numbers).ipynb",
      "provenance": [],
      "collapsed_sections": [],
      "authorship_tag": "ABX9TyPSGs1DdcjTSo9pSdZYUhUx",
      "include_colab_link": true
    },
    "kernelspec": {
      "name": "python3",
      "display_name": "Python 3"
    },
    "language_info": {
      "name": "python"
    }
  },
  "cells": [
    {
      "cell_type": "markdown",
      "metadata": {
        "id": "view-in-github",
        "colab_type": "text"
      },
      "source": [
        "<a href=\"https://colab.research.google.com/github/qbsevda/Python-Assignments/blob/main/Assignment_10_06_(Prime_Numbers).ipynb\" target=\"_parent\"><img src=\"https://colab.research.google.com/assets/colab-badge.svg\" alt=\"Open In Colab\"/></a>"
      ]
    },
    {
      "cell_type": "code",
      "metadata": {
        "colab": {
          "base_uri": "https://localhost:8080/"
        },
        "id": "Ef68dPUVuHkq",
        "outputId": "7df2169c-e923-4e57-f638-efcb2bf2bc49"
      },
      "source": [
        "\"\"\"\n",
        "Task : Print the prime numbers which are between 1 to entered limit number (n).\n",
        "\n",
        "You can use a nested for loop.\n",
        "Collect all these numbers into a list\n",
        "The desired output for n=100 :\n",
        "\n",
        "[2, 3, 5, 7, 11, 13, 17, 19, 23, 29, 31, 37, 41, 43, 47, 53, 59,\n",
        "61, 67, 71, 73, 79, 83, 89, 97]\n",
        "\"\"\"\n",
        "\n",
        "num = input('Please enter a number : ')\n",
        "while not num.isnumeric():\n",
        "  num = input(\"\"\"\n",
        "  It is an invalid entry. \n",
        "  Don't use non-numeric or negative values! \n",
        "  Please enter a number : \"\"\")\n",
        "else: \n",
        "  num = int(num)\n",
        "\n",
        "x = list(range(2, num))\n",
        "\n",
        "if num >=7:\n",
        "  plist = [2, 3, 5]\n",
        "  for i in x:\n",
        "    if ((i % 6) == 1):\n",
        "      plist.append(i)\n",
        "elif num >= 5 and num <=6 :\n",
        "  plist = [2, 3, 5]\n",
        "elif num >= 3 and num < 5 :\n",
        "  plist = [2, 3]\n",
        "elif num <=2:\n",
        "  plist = [2]\n",
        "  \n",
        "print(sorted(plist))\n",
        "  "
      ],
      "execution_count": 43,
      "outputs": [
        {
          "output_type": "stream",
          "name": "stdout",
          "text": [
            "Please enter a number : 100\n",
            "[2, 3, 5, 7, 13, 19, 25, 31, 37, 43, 49, 55, 61, 67, 73, 79, 85, 91, 97]\n"
          ]
        }
      ]
    }
  ]
}