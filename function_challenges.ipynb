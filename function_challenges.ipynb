{
  "nbformat": 4,
  "nbformat_minor": 0,
  "metadata": {
    "colab": {
      "name": "function_challenges.ipynb",
      "provenance": [],
      "collapsed_sections": [],
      "authorship_tag": "ABX9TyMwxZXAcAQUT6NHKmArYtIz",
      "include_colab_link": true
    },
    "kernelspec": {
      "name": "python3",
      "display_name": "Python 3"
    },
    "language_info": {
      "name": "python"
    }
  },
  "cells": [
    {
      "cell_type": "markdown",
      "metadata": {
        "id": "view-in-github",
        "colab_type": "text"
      },
      "source": [
        "<a href=\"https://colab.research.google.com/github/qbsevda/Python-Jouney/blob/main/function_challenges.ipynb\" target=\"_parent\"><img src=\"https://colab.research.google.com/assets/colab-badge.svg\" alt=\"Open In Colab\"/></a>"
      ]
    },
    {
      "cell_type": "code",
      "metadata": {
        "id": "vY_dQXEu2SrV"
      },
      "source": [
        "\"\"\"A student learning Python was trying to make a function. \n",
        "His code should concatenate a passed string name with string \"Edabit\" \n",
        "and store it in a variable called result. \n",
        "He needs your help to fix this code.\n",
        "\"\"\"\n",
        "\n",
        "def name_string(x):\n",
        "    return x+\"Edabit\"\n",
        "    print(x+\"Edabit\")\n",
        "\n",
        "name_string(\"Mubashir\")   #----> \"MubashirEdabit\"\n"
      ],
      "execution_count": null,
      "outputs": []
    },
    {
      "cell_type": "code",
      "metadata": {
        "id": "nzSzUfKx4KrP"
      },
      "source": [
        "\"\"\"Create a function that takes two strings as arguments and \n",
        "return either True or False depending on whether the total number of characters \n",
        "in the first string is equal to the total number of characters in \n",
        "the second string.\n",
        "\n",
        "Examples\n",
        "comp(\"AB\", \"CD\") ➞ True\n",
        "comp(\"ABC\", \"DE\") ➞ False\n",
        "comp(\"hello\", \"edabit\") ➞ False\n",
        "\"\"\"\n",
        "def comp(a1, a2):\n",
        "  if len(a1) == len(a2):\n",
        "    return True\n",
        "  else:\n",
        "    return False\n",
        "  \n",
        "comp(\"AB\", \"CD\")\n",
        "\n"
      ],
      "execution_count": null,
      "outputs": []
    },
    {
      "cell_type": "code",
      "metadata": {
        "id": "Yq-Pc2cK9xZ5"
      },
      "source": [
        "\"\"\"\n",
        "Create a function that takes a string and returns the concatenated \n",
        "first and last character.\n",
        "\n",
        "Examples\n",
        "first_last(\"ganesh\") ➞ \"gh\"\n",
        "first_last(\"kali\") ➞ \"ki\"\n",
        "first_last(\"shiva\") ➞ \"sa\"\n",
        "first_last(\"vishnu\") ➞ \"vu\"\n",
        "first_last(\"durga\") ➞ \"da\"\n",
        "\"\"\"\n",
        "\n",
        "def first_last(word):\n",
        "    return word[0]+word[-1]\n",
        "\n",
        "first_last(\"sevda\")"
      ],
      "execution_count": null,
      "outputs": []
    },
    {
      "cell_type": "code",
      "metadata": {
        "id": "awO2xoKK9xMf"
      },
      "source": [
        "\"\"\"\n",
        "Create a function that takes the age in years and returns the age in days.\n",
        "\n",
        "Examples\n",
        "calc_age(65) ➞ 23725\n",
        "calc_age(0) ➞ 0\n",
        "calc_age(20) ➞ 7300\n",
        "\n",
        "Notes\n",
        "Use 365 days as the length of a year for this challenge.\n",
        "Ignore leap years and days between last birthday and now.\n",
        "\n",
        "Expect only positive integer inputs.\n",
        "\"\"\"\n",
        "\n",
        "def calc_age(x):\n",
        "  age = int(input(\"Enter your age:\")) \n",
        "  while age < 0: \n",
        "    age = int(input(\"Please enter a positive number :\")) \n",
        "  else: \n",
        "    return age*365\n",
        "\n",
        "calc_age(age)\n"
      ],
      "execution_count": null,
      "outputs": []
    },
    {
      "cell_type": "code",
      "metadata": {
        "id": "ETU51niJ9w9h"
      },
      "source": [
        "\"\"\"\n",
        "Create a function that takes a list of numbers. Return the largest number \n",
        "in the list.\n",
        "\n",
        "Examples\n",
        "findLargestNum([4, 5, 1, 3]) ➞ 5\n",
        "\n",
        "findLargestNum([300, 200, 600, 150]) ➞ 600\n",
        "\n",
        "findLargestNum([1000, 1001, 857, 1]) ➞ 1001\n",
        "Notes\n",
        "Expect either positive numbers or zero (there are no negative numbers).\n",
        "If you get stuck on a challenge, find help in the Resources tab.\n",
        "If you're really stuck, unlock solutions in the Solutions tab.\n",
        "\"\"\"\n",
        "\n",
        "\n",
        "def findLargestNum(list_1): \n",
        "  return max(list_1)\n",
        "\n",
        "a = [4, 5, 1, 3]\n",
        "b = [300, 200, 600, 150]\n",
        "c = [1000, 1001, 857, 1]\n",
        "\n",
        "findLargestNum(c)\n"
      ],
      "execution_count": null,
      "outputs": []
    },
    {
      "cell_type": "code",
      "metadata": {
        "id": "POkIgqBRP7AS"
      },
      "source": [
        "\"\"\"\n",
        "Create a function that takes a list and returns the difference \n",
        "between the biggest and smallest numbers.\n",
        "\n",
        "Examples\n",
        "difference_max_min([10, 4, 1, 4, -10, -50, 32, 21]) ➞ 82\n",
        "# Smallest number is -50, biggest is 32.\n",
        "\n",
        "difference_max_min([44, 32, 86, 19]) ➞ 67\n",
        "# Smallest number is 19, biggest is 86.\n",
        "\n",
        "\"\"\"\n",
        "\n",
        "def difference_max_min(lst):\n",
        "  return max(lst) - min(lst)\n",
        "\n",
        "x = [10, 4, 1, 4, -10, -50, 32, 21]\n",
        "\n",
        "difference_max_min(x)\n"
      ],
      "execution_count": null,
      "outputs": []
    },
    {
      "cell_type": "code",
      "metadata": {
        "id": "mBUZvGxyP687"
      },
      "source": [
        "\"\"\"\n",
        "Create a function that returns True if all parameters are truthy, \n",
        "and False otherwise.\n",
        "\n",
        "Examples\n",
        "all_truthy(True, True, True) ➞ True\n",
        "all_truthy(True, False, True) ➞ False\n",
        "all_truthy(5, 4, 3, 2, 1, 0) ➞ False\n",
        "\n",
        "Notes\n",
        "Truthy values include non-empty sequences, numbers \n",
        "(except 0 in every numeric type), and basically every value that is not falsy.\n",
        "You can check if an item is truthy by using an if statement on that item.\n",
        "You will always be supplied with at least one parameter.\n",
        "\"\"\"\n",
        "\n",
        "def all_truthy(arg1):\n",
        "  return all(arg1) #\n",
        "\n",
        "k = [5, 4, 3, 2, 1, 0]\n",
        "j = (True, True, True)\n",
        "h = (True, False, True)\n",
        "\n",
        "all_truthy(k)\n"
      ],
      "execution_count": null,
      "outputs": []
    }
  ]
}