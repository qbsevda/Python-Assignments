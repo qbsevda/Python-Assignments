{
  "nbformat": 4,
  "nbformat_minor": 0,
  "metadata": {
    "colab": {
      "name": "Assignment - 10/04 -Is It a Prime Number.ipynb",
      "provenance": [],
      "collapsed_sections": [],
      "authorship_tag": "ABX9TyNKOaSmLayww0F7Ssr382lm",
      "include_colab_link": true
    },
    "kernelspec": {
      "name": "python3",
      "display_name": "Python 3"
    },
    "language_info": {
      "name": "python"
    }
  },
  "cells": [
    {
      "cell_type": "markdown",
      "metadata": {
        "id": "view-in-github",
        "colab_type": "text"
      },
      "source": [
        "<a href=\"https://colab.research.google.com/github/qbsevda/Python-Assignments/blob/main/Assignment_10_04_Is_It_a_Prime_Number.ipynb\" target=\"_parent\"><img src=\"https://colab.research.google.com/assets/colab-badge.svg\" alt=\"Open In Colab\"/></a>"
      ]
    },
    {
      "cell_type": "code",
      "metadata": {
        "colab": {
          "base_uri": "https://localhost:8080/"
        },
        "id": "Ef68dPUVuHkq",
        "outputId": "a0df8bdd-465e-45ff-9dda-7bad7712f566"
      },
      "source": [
        "num = input('Please enter a number : ')\n",
        "if not num.isnumeric():\n",
        "  print(\"It is an invalid entry. Don't use non-numeric, float, or negative values!\")\n",
        "else: \n",
        "  num = int(num)\n",
        "  if ((num % 6) == 1) or ((num % 6) == -1):\n",
        "    print(f'{num} is a prime number')\n",
        "  else:\n",
        "    print(f'{num} is not a prime number')"
      ],
      "execution_count": null,
      "outputs": [
        {
          "output_type": "stream",
          "name": "stdout",
          "text": [
            "Please enter a number : -19\n",
            "It is an invalid entry. Don't use non-numeric, float, or negative values!\n"
          ]
        }
      ]
    }
  ]
}